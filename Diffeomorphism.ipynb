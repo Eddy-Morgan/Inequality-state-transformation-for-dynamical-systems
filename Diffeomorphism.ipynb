{
 "cells": [
  {
   "cell_type": "code",
   "execution_count": 1,
   "id": "ca36b085",
   "metadata": {},
   "outputs": [],
   "source": [
    "import sympy as sp\n",
    "from sympy import diff, Symbol,symbols\n",
    "from sympy.physics.mechanics import dynamicsymbols\n",
    "from sympy.physics.vector import init_vprinting\n",
    "\n",
    "init_vprinting(use_latex=\"mathjax\", pretty_print=False)"
   ]
  },
  {
   "cell_type": "code",
   "execution_count": 2,
   "id": "00cecafb",
   "metadata": {},
   "outputs": [
    {
     "data": {
      "text/latex": [
       "$\\displaystyle \\left( x, \\  y, \\  x_{M}, \\  x_{m}, \\  x_{d}, \\  y_{d}\\right)$"
      ],
      "text/plain": [
       "(x, y, x_M, x_m, x_d, y_d)"
      ]
     },
     "execution_count": 2,
     "metadata": {},
     "output_type": "execute_result"
    }
   ],
   "source": [
    "x_M, x_m, x_d, y_d = symbols('x_M x_m x_d y_d')\n",
    "x, y = dynamicsymbols('x y')\n",
    "x, y,x_M, x_m, x_d, y_d"
   ]
  },
  {
   "cell_type": "code",
   "execution_count": 3,
   "id": "45b3ab86",
   "metadata": {},
   "outputs": [],
   "source": [
    "#Let the system state transformation equation be the following:\n",
    "ste = y - sp.tan((sp.pi/(x_M - x_m))*(x-x_m) - (sp.pi/2))"
   ]
  },
  {
   "cell_type": "code",
   "execution_count": 4,
   "id": "fd6a20ae",
   "metadata": {},
   "outputs": [],
   "source": [
    "#Let the desired state transformation equation be the following:\n",
    "ste_d = y_d - sp.tan((sp.pi/(x_M - x_m))*(x_d-x_m) - (sp.pi/2))"
   ]
  },
  {
   "cell_type": "code",
   "execution_count": 5,
   "id": "d66cf94f",
   "metadata": {},
   "outputs": [
    {
     "data": {
      "text/latex": [
       "$\\displaystyle \\left( y + \\cot{\\left(\\frac{\\pi \\left(- x_{m} + x\\right)}{x_{M} - x_{m}} \\right)}, \\  y_{d} + \\cot{\\left(\\frac{\\pi \\left(x_{d} - x_{m}\\right)}{x_{M} - x_{m}} \\right)}\\right)$"
      ],
      "text/plain": [
       "(y + cot(pi*(-x_m + x)/(x_M - x_m)), y_d + cot(pi*(x_d - x_m)/(x_M - x_m)))"
      ]
     },
     "execution_count": 5,
     "metadata": {},
     "output_type": "execute_result"
    }
   ],
   "source": [
    "ste, ste_d"
   ]
  },
  {
   "cell_type": "code",
   "execution_count": 6,
   "id": "6ecbf868",
   "metadata": {},
   "outputs": [],
   "source": [
    "#Considering y → yd, when x → xd, and xm < x < xM for\n",
    "#all y ∈ R. Thus, by choosing a suitable function, the state\n",
    "#transition function can convert an unbounded state y to a\n",
    "#bounded state x, and then we can obtain the following:"
   ]
  },
  {
   "cell_type": "code",
   "execution_count": 19,
   "id": "21b78313",
   "metadata": {},
   "outputs": [
    {
     "data": {
      "text/latex": [
       "$\\displaystyle \\frac{- x_{M} \\operatorname{acot}{\\left(y \\right)} + x_{m} \\operatorname{acot}{\\left(y \\right)} + \\pi x_{m}}{\\pi}$"
      ],
      "text/plain": [
       "(-x_M*acot(y) + x_m*acot(y) + pi*x_m)/pi"
      ]
     },
     "execution_count": 19,
     "metadata": {},
     "output_type": "execute_result"
    }
   ],
   "source": [
    "x_state = sp.solve([ste],[x])[x]\n",
    "x_state.simplify()"
   ]
  },
  {
   "cell_type": "code",
   "execution_count": 20,
   "id": "27db2863",
   "metadata": {},
   "outputs": [
    {
     "data": {
      "text/latex": [
       "$\\displaystyle \\frac{\\left(x_{M} - x_{m}\\right) \\dot{y}}{\\pi \\left(y^{2} + 1\\right)}$"
      ],
      "text/plain": [
       "(x_M - x_m)*y'/(pi*(y**2 + 1))"
      ]
     },
     "execution_count": 20,
     "metadata": {},
     "output_type": "execute_result"
    }
   ],
   "source": [
    "xd_state = sp.diff(x_state,'t',1)\n",
    "xd_state.simplify()"
   ]
  },
  {
   "cell_type": "code",
   "execution_count": 21,
   "id": "bd612356",
   "metadata": {},
   "outputs": [
    {
     "data": {
      "text/latex": [
       "$\\displaystyle \\frac{- 2 x_{M} y \\dot{y}^{2} + 2 x_{m} y \\dot{y}^{2} + \\left(x_{M} - x_{m}\\right) \\left(y^{2} + 1\\right) \\ddot{y}}{\\pi \\left(y^{2} + 1\\right)^{2}}$"
      ],
      "text/plain": [
       "(-2*x_M*y*y'**2 + 2*x_m*y*y'**2 + (x_M - x_m)*(y**2 + 1)*y'')/(pi*(y**2 + 1)**2)"
      ]
     },
     "execution_count": 21,
     "metadata": {},
     "output_type": "execute_result"
    }
   ],
   "source": [
    "xdd_state = sp.diff(x_state,'t',2)\n",
    "xdd_state.simplify()"
   ]
  },
  {
   "cell_type": "code",
   "execution_count": 22,
   "id": "0d83f3f7",
   "metadata": {},
   "outputs": [
    {
     "data": {
      "text/latex": [
       "$\\displaystyle F_{fric} + F_{ripple} + \\frac{\\left(B + K_{e}\\right) \\left(\\frac{x_{M} \\dot{y}}{y^{2} + 1} - \\frac{x_{m} \\dot{y}}{y^{2} + 1}\\right)}{\\pi} + \\frac{R_{m} \\left(x_{M} \\ddot{y} - \\frac{2 x_{M} y \\dot{y}^{2}}{y^{2} + 1} - x_{m} \\ddot{y} + \\frac{2 x_{m} y \\dot{y}^{2}}{y^{2} + 1}\\right)}{\\pi K_{f} \\left(y^{2} + 1\\right)}$"
      ],
      "text/plain": [
       "F_fric + F_ripple + (B + K_e)*(x_M*y'/(y**2 + 1) - x_m*y'/(y**2 + 1))/pi + R_m*(x_M*y'' - 2*x_M*y*y'**2/(y**2 + 1) - x_m*y'' + 2*x_m*y*y'**2/(y**2 + 1))/(pi*K_f*(y**2 + 1))"
      ]
     },
     "execution_count": 22,
     "metadata": {},
     "output_type": "execute_result"
    }
   ],
   "source": [
    "# permanent magnet linear motor (PMLM) model\n",
    "R_m, K_f, K_e, B, F_fric, F_ripple= symbols('R_m K_f K_e B F_fric F_ripple')\n",
    "\n",
    "M = R_m/K_f\n",
    "F = F_fric + F_ripple\n",
    "\n",
    "u = M*xdd_state + (K_e + B)*xd_state + F\n",
    "u"
   ]
  },
  {
   "cell_type": "code",
   "execution_count": 25,
   "id": "78adeedf",
   "metadata": {},
   "outputs": [
    {
     "data": {
      "text/latex": [
       "$\\displaystyle F_{fric} + F_{ripple} + \\left(\\frac{R_{m} x_{M}}{\\pi K_{f} y^{2} + \\pi K_{f}} - \\frac{R_{m} x_{m}}{\\pi K_{f} y^{2} + \\pi K_{f}}\\right) \\ddot{y} + \\left(- \\frac{2 R_{m} x_{M} y}{\\pi K_{f} y^{4} + 2 \\pi K_{f} y^{2} + \\pi K_{f}} + \\frac{2 R_{m} x_{m} y}{\\pi K_{f} y^{4} + 2 \\pi K_{f} y^{2} + \\pi K_{f}}\\right) \\dot{y}^{2} + \\left(\\frac{B x_{M}}{\\pi y^{2} + \\pi} - \\frac{B x_{m}}{\\pi y^{2} + \\pi} + \\frac{K_{e} x_{M}}{\\pi y^{2} + \\pi} - \\frac{K_{e} x_{m}}{\\pi y^{2} + \\pi}\\right) \\dot{y}$"
      ],
      "text/plain": [
       "F_fric + F_ripple + (R_m*x_M/(pi*K_f*y**2 + pi*K_f) - R_m*x_m/(pi*K_f*y**2 + pi*K_f))*y'' + (-2*R_m*x_M*y/(pi*K_f*y**4 + 2*pi*K_f*y**2 + pi*K_f) + 2*R_m*x_m*y/(pi*K_f*y**4 + 2*pi*K_f*y**2 + pi*K_f))*y'**2 + (B*x_M/(pi*y**2 + pi) - B*x_m/(pi*y**2 + pi) + K_e*x_M/(pi*y**2 + pi) - K_e*x_m/(pi*y**2 + pi))*y'"
      ]
     },
     "execution_count": 25,
     "metadata": {},
     "output_type": "execute_result"
    }
   ],
   "source": [
    "#simplifing into a general form of the dynamics model\n",
    "coeffs = sp.Matrix([y.diff('t',1), y.diff('t',2)])\n",
    "expr = sp.collect(sp.expand(u), syms=coeffs[:])\n",
    "expr"
   ]
  },
  {
   "cell_type": "code",
   "execution_count": 26,
   "id": "ca2ce285",
   "metadata": {},
   "outputs": [
    {
     "data": {
      "text/latex": [
       "$\\displaystyle \\frac{R_{m} \\left(x_{M} - x_{m}\\right)}{\\pi K_{f} \\left(y^{2} + 1\\right)}$"
      ],
      "text/plain": [
       "R_m*(x_M - x_m)/(pi*K_f*(y**2 + 1))"
      ]
     },
     "execution_count": 26,
     "metadata": {},
     "output_type": "execute_result"
    }
   ],
   "source": [
    "# NEW Dynamics after state transformation\n",
    "\n",
    "#mass term M\n",
    "M_y = expr.coeff(y.diff('t',2))\n",
    "M_y.simplify() "
   ]
  },
  {
   "cell_type": "code",
   "execution_count": 27,
   "id": "8b2317d1",
   "metadata": {},
   "outputs": [
    {
     "data": {
      "text/latex": [
       "$\\displaystyle \\frac{B x_{M} - B x_{m} + K_{e} x_{M} - K_{e} x_{m}}{\\pi \\left(y^{2} + 1\\right)}$"
      ],
      "text/plain": [
       "(B*x_M - B*x_m + K_e*x_M - K_e*x_m)/(pi*(y**2 + 1))"
      ]
     },
     "execution_count": 27,
     "metadata": {},
     "output_type": "execute_result"
    }
   ],
   "source": [
    "#the Koch force/centrifugal force term C\n",
    "C_y = expr.coeff(y.diff('t',1))\n",
    "C_y.simplify() "
   ]
  },
  {
   "cell_type": "code",
   "execution_count": 32,
   "id": "8e2b40c4",
   "metadata": {},
   "outputs": [
    {
     "data": {
      "text/latex": [
       "$\\displaystyle F_{fric} + F_{ripple} + \\left(- \\frac{2 R_{m} x_{M} y}{\\pi K_{f} y^{4} + 2 \\pi K_{f} y^{2} + \\pi K_{f}} + \\frac{2 R_{m} x_{m} y}{\\pi K_{f} y^{4} + 2 \\pi K_{f} y^{2} + \\pi K_{f}}\\right) \\dot{y}^{2}$"
      ],
      "text/plain": [
       "F_fric + F_ripple + (-2*R_m*x_M*y/(pi*K_f*y**4 + 2*pi*K_f*y**2 + pi*K_f) + 2*R_m*x_m*y/(pi*K_f*y**4 + 2*pi*K_f*y**2 + pi*K_f))*y'**2"
      ]
     },
     "execution_count": 32,
     "metadata": {},
     "output_type": "execute_result"
    }
   ],
   "source": [
    "# the friction F of the linear motor mechanical system after state transition\n",
    "F_y = expr - (M_y*y.diff('t',2)) - (C_y*y.diff('t',1))\n",
    "F_y"
   ]
  },
  {
   "cell_type": "code",
   "execution_count": null,
   "id": "e89abd1b",
   "metadata": {},
   "outputs": [],
   "source": []
  }
 ],
 "metadata": {
  "kernelspec": {
   "display_name": "Python 3 (ipykernel)",
   "language": "python",
   "name": "python3"
  },
  "language_info": {
   "codemirror_mode": {
    "name": "ipython",
    "version": 3
   },
   "file_extension": ".py",
   "mimetype": "text/x-python",
   "name": "python",
   "nbconvert_exporter": "python",
   "pygments_lexer": "ipython3",
   "version": "3.10.12"
  }
 },
 "nbformat": 4,
 "nbformat_minor": 5
}
